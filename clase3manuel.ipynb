{
  "nbformat": 4,
  "nbformat_minor": 0,
  "metadata": {
    "colab": {
      "name": "clase3manuel.ipynb",
      "provenance": [],
      "authorship_tag": "ABX9TyPmu0kOFFjvOpYgua4H5QlO",
      "include_colab_link": true
    },
    "kernelspec": {
      "name": "python3",
      "display_name": "Python 3"
    },
    "language_info": {
      "name": "python"
    }
  },
  "cells": [
    {
      "cell_type": "markdown",
      "metadata": {
        "id": "view-in-github",
        "colab_type": "text"
      },
      "source": [
        "<a href=\"https://colab.research.google.com/github/manumantilla/PROCOM/blob/main/clase3manuel.ipynb\" target=\"_parent\"><img src=\"https://colab.research.google.com/assets/colab-badge.svg\" alt=\"Open In Colab\"/></a>"
      ]
    },
    {
      "cell_type": "markdown",
      "source": [
        "# 1 ejercicio\n"
      ],
      "metadata": {
        "id": "rRwVqSPxknbe"
      }
    },
    {
      "cell_type": "markdown",
      "source": [
        "# Nueva sección"
      ],
      "metadata": {
        "id": "sfQaL6m2XARp"
      }
    },
    {
      "cell_type": "markdown",
      "source": [
        "# Nueva sección"
      ],
      "metadata": {
        "id": "ScFuXJDQXBM4"
      }
    },
    {
      "cell_type": "code",
      "source": [
        ""
      ],
      "metadata": {
        "id": "oPHImV3LK5sR"
      },
      "execution_count": null,
      "outputs": []
    },
    {
      "cell_type": "code",
      "source": [
        ""
      ],
      "metadata": {
        "id": "m0lCPlE6LBQg"
      },
      "execution_count": null,
      "outputs": []
    },
    {
      "cell_type": "code",
      "source": [
        ""
      ],
      "metadata": {
        "id": "SpheudifLCUe"
      },
      "execution_count": null,
      "outputs": []
    },
    {
      "cell_type": "markdown",
      "source": [
        "# 18 EJERCICIO"
      ],
      "metadata": {
        "id": "MMz3xPkQXB0g"
      }
    },
    {
      "cell_type": "code",
      "source": [
        "int decena = None\n",
        "int unidad\n",
        "perro= None\n",
        "number = int(input(print(\"Digite un numero\")))\n",
        "if number>=1 or number <=9:\n",
        "  print(\"Solo tiene una UNIDAD \")\n",
        " \n",
        "elif number>=100:\n",
        "  decena=number/10\n",
        "  unidad=number/100"
      ],
      "metadata": {
        "id": "zApP0jeYLDnv"
      },
      "execution_count": null,
      "outputs": []
    },
    {
      "cell_type": "markdown",
      "source": [
        "# 13 EJERCICIO"
      ],
      "metadata": {
        "id": "bblGjjSXXB3r"
      }
    },
    {
      "cell_type": "code",
      "source": [
        ""
      ],
      "metadata": {
        "id": "vXKdpGbPGRdG"
      },
      "execution_count": null,
      "outputs": []
    },
    {
      "cell_type": "code",
      "source": [
        "option = int(input(print(\"Digite una opción 1. cm a metros 2.cm a km 3. metros a km 4.km a cm 5.km a m\")))\n",
        "if (option==1):\n",
        "  medida_1=float(input(print(\"Digite la medida en cm \")))\n",
        "  medida_final1=medida_1/100\n",
        "  print(\"La medida en metros es\",medida_final1)\n",
        "elif (option==2):\n",
        "  medida_2=float(input(print(\"Digite la medida en cm\")))\n",
        "  medida_final2=medida_2/10000\n",
        "  print(\"La medida en km es: \",medida_final2)\n",
        "elif (option==3):\n",
        "  medida_3=float(input(print(\"Digite la medida en metros\")))\n",
        "  medida_final3=medida_3/1000\n",
        "elif (option==4):\n",
        "  medida=float(input(print(\"Digite la medida en km\")))\n",
        "  medida_final=medida*10000\n",
        "else:\n",
        "  medida=float(input(print(\"Digite la medida en km\")))\n",
        "  medida_final=medida*1000\n"
      ],
      "metadata": {
        "colab": {
          "base_uri": "https://localhost:8080/"
        },
        "id": "xDBdq0XS9wI5",
        "outputId": "1b5715f2-ae76-4af8-8d8d-93e3adb972af"
      },
      "execution_count": null,
      "outputs": [
        {
          "name": "stdout",
          "output_type": "stream",
          "text": [
            "Digite una opcion 1. cm a metros 2.cm a km 3. metros a km 4.km a cm 5.km a m\n",
            "None1\n"
          ]
        }
      ]
    },
    {
      "cell_type": "markdown",
      "source": [
        "# 12 EJERCICIO"
      ],
      "metadata": {
        "id": "xxxsEylyXB53"
      }
    },
    {
      "cell_type": "markdown",
      "source": [
        "# 20 EJERCICO\n"
      ],
      "metadata": {
        "id": "_xEqf42BXB8T"
      }
    },
    {
      "cell_type": "code",
      "source": [
        "option = (int(input)(print\"Digite una opcion 1. Sumar 2.\")))"
      ],
      "metadata": {
        "id": "FJwaz9728f84"
      },
      "execution_count": null,
      "outputs": []
    },
    {
      "cell_type": "markdown",
      "source": [
        ""
      ],
      "metadata": {
        "id": "sYgNk7qPcarI"
      }
    },
    {
      "cell_type": "code",
      "source": [
        "x = int(input(print(\"Enter a number:\")))\n",
        "if x>=0 or x<=9:\n",
        "  pirnt(\"there is no palondrome\")\n",
        "elif "
      ],
      "metadata": {
        "id": "qThhaiqrcbIF"
      },
      "execution_count": null,
      "outputs": []
    },
    {
      "cell_type": "code",
      "source": [
        "x = float(input(print(\"Enter a number\")))\n",
        "y = float(input(print(\"Enter other number\")))\n",
        "suma = x/y\n",
        "residuo = x%y\n",
        "if residuo == 0:\n",
        "  print(\"its \",suma,\"and The number has residue exact \")\n",
        "elif y == 0:\n",
        "  print(\"the second number its 0\")\n",
        "else:\n",
        "  print(\"its \",residuo,\" and The number residue its\",residuo)"
      ],
      "metadata": {
        "colab": {
          "base_uri": "https://localhost:8080/"
        },
        "id": "0UE_gAbcksUu",
        "outputId": "23bff468-8860-4c71-d27b-cfc7ef29d0ac"
      },
      "execution_count": null,
      "outputs": [
        {
          "output_type": "stream",
          "name": "stdout",
          "text": [
            "Enter a number\n",
            "4\n",
            "Enter other number\n",
            "9\n",
            "its  4.0  and The number residue its 4.0\n"
          ]
        }
      ]
    },
    {
      "cell_type": "markdown",
      "source": [
        "# 2 ejercicio"
      ],
      "metadata": {
        "id": "GBpL7AzBmJlJ"
      }
    },
    {
      "cell_type": "code",
      "source": [
        ""
      ],
      "metadata": {
        "id": "q_EXGyN1mMZK"
      },
      "execution_count": null,
      "outputs": []
    },
    {
      "cell_type": "markdown",
      "source": [
        "# 3 ejercicio"
      ],
      "metadata": {
        "id": "61diri4vmh4i"
      }
    },
    {
      "cell_type": "code",
      "source": [
        "firstbro = input(print(\"Enter ur age\"))\n",
        "seconbro = input(print(\"Enter ur age\"))\n",
        "thirtbro = input(print(\"Enter ur age\"))\n",
        "if firstbro>seconbro and firstbro>thirtbro and seconbro>thirtbro: # 3,2,1\n",
        "  print(\"el orden es: \",thirtbro,seconbro,firstbro)\n",
        "elif seconbro>firstbro and seconbro>thirtbro and firstbro>thirtbro:#3,1,2\n",
        "  print(\"El ordes es\",thirtbro,firstbro,seconbro)\n",
        "elif thirtbro>firstbro and thirtbro>seconbro and firstbro>seconbro: #2,1,3\n",
        "  print(\"El ordes es\",seconbro,firstbro,thirtbro)\n",
        "elif thirtbro>firstbro and thirtbro>seconbro and seconbro>firstbro:#1,2,3\n",
        "  print(\"El ordes es\",firstbro,seconbro,thirtbro)\n",
        "elif seconbro>thirtbro and seconbro>firstbro and thirtbro>firstbro:#1,3,2\n",
        "  print(\"El orden es\",firstbro,thirtbro,seconbro)\n",
        "elif firstbro>seconbro and firstbro>thirtbro and thirtbro>seconbro: #2,3,1\n",
        "  print(\"El orden es\",seconbro,thirtbro,firstbro)\n",
        "elif firstbro == seconbro and firstbro ==thirtbro:\n",
        "  print(\"u r tillizos\")\n",
        "elif firstbro == seconbro or firstbro ==thirtbro:\n",
        "  print(\"U r gemelos\")\n",
        "\n",
        "\n"
      ],
      "metadata": {
        "colab": {
          "base_uri": "https://localhost:8080/"
        },
        "id": "UnrOYKK6mkFA",
        "outputId": "b8a90874-d07e-4f49-d93f-add2a260ffcd"
      },
      "execution_count": null,
      "outputs": [
        {
          "output_type": "stream",
          "name": "stdout",
          "text": [
            "Enter ur age\n",
            "1\n",
            "Enter ur age\n",
            "2\n",
            "Enter ur age\n",
            "3\n",
            "El ordes es 1 2 3\n"
          ]
        }
      ]
    },
    {
      "cell_type": "markdown",
      "source": [
        "#4 ejercicio"
      ],
      "metadata": {
        "id": "PRteSV75tbBQ"
      }
    },
    {
      "cell_type": "code",
      "source": [
        "print(\"Write all u gastos es decir egresos\")\n",
        "print(\"welcome to DIAN. plz write all u ingresos en este ultimo año: \")\n"
      ],
      "metadata": {
        "id": "EWqf6jEMtePv"
      },
      "execution_count": null,
      "outputs": []
    },
    {
      "cell_type": "markdown",
      "source": [
        "# 5 ejercicio"
      ],
      "metadata": {
        "id": "-yU1nFvtuJ91"
      }
    },
    {
      "cell_type": "code",
      "source": [
        "letter = input(print(\"Write the first letter of u ID \"))\n",
        "if letter == \"u\" or \"U\":\n",
        "  print(\"YESSIR\")\n",
        "elif letter == \"p\" or \"P\":"
      ],
      "metadata": {
        "colab": {
          "base_uri": "https://localhost:8080/"
        },
        "id": "mMi4wfa5uNy8",
        "outputId": "064ba784-4485-45d0-8123-b7d09908f356"
      },
      "execution_count": null,
      "outputs": [
        {
          "output_type": "stream",
          "name": "stdout",
          "text": [
            "Write the first letter of u ID \n",
            "u\n",
            "YESSIR\n"
          ]
        }
      ]
    },
    {
      "cell_type": "code",
      "source": [
        ""
      ],
      "metadata": {
        "id": "ok0YJ996u11l"
      },
      "execution_count": null,
      "outputs": []
    },
    {
      "cell_type": "markdown",
      "source": [
        "# 6 ejercicio"
      ],
      "metadata": {
        "id": "0LxQcMHOv_nP"
      }
    },
    {
      "cell_type": "code",
      "source": [
        "n_one = int(input(print(\"Write ur 1 calification aproximando para que sea entero\")))\n",
        "n_two = int(input(print(\"Write ur 1 calification aproximando para que sea entero\")))\n",
        "n_trhe = int(input(print(\"Write ur 1 calification aproximando para que sea entero\")))\n",
        "n_four = int(input(print(\"Write ur 1 calification aproximando para que sea entero\")))\n",
        "prom = (n_one+n_two+n_trhe+n_four)/4;\n",
        "if prom>45:\n",
        "  print(\"Eximido del siguiente examen\")\n",
        "elif prom>=35 and prom<=45:\n",
        "  print(\"Debes presentar el examen\")\n",
        "elif prom>=3 and prom<=35:\n",
        "  print(\"Adicional al examen prsentar un trabajo\") \n",
        "elif prom>=2 and prom<=3:\n",
        "  print(\"Presenta habilitacion\")\n",
        "else:\n",
        "  print(\"Paila\")\n",
        "\n"
      ],
      "metadata": {
        "colab": {
          "base_uri": "https://localhost:8080/"
        },
        "id": "vqJr6OAewCK-",
        "outputId": "add376b4-431a-4d1a-87f0-1fc1cf56a7bb"
      },
      "execution_count": null,
      "outputs": [
        {
          "output_type": "stream",
          "name": "stdout",
          "text": [
            "Write ur 1 calification aproximando para que sea entero\n",
            "50\n",
            "Write ur 1 calification aproximando para que sea entero\n",
            "50\n",
            "Write ur 1 calification aproximando para que sea entero\n",
            "50\n",
            "Write ur 1 calification aproximando para que sea entero\n",
            "50\n",
            "Eximido del siguiente examen\n"
          ]
        }
      ]
    },
    {
      "cell_type": "markdown",
      "source": [
        "# 7 ejercicio"
      ],
      "metadata": {
        "id": "4Kq_YNrEyAfM"
      }
    },
    {
      "cell_type": "code",
      "source": [
        "year = print(\"En que año naciste\")\n",
        "year_actual = print(\"En que año estamos\")\n",
        "day = print(\"que dia es tu nacimiento\")\n",
        "day_actual = print(\"en que dia estamos\")\n",
        "month_actual = print(\"En que mes estamos\")\n",
        "month = print(\"En que mes naciste\")\n",
        "age = year_actual-year;\n",
        "print (\"Tu edad es \", age)\n",
        "\n"
      ],
      "metadata": {
        "id": "GV-4tXyQyCjc"
      },
      "execution_count": null,
      "outputs": []
    },
    {
      "cell_type": "code",
      "source": [
        ""
      ],
      "metadata": {
        "id": "ICTyjRpGzMUJ"
      },
      "execution_count": null,
      "outputs": []
    }
  ]
}