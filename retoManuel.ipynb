{
  "nbformat": 4,
  "nbformat_minor": 0,
  "metadata": {
    "colab": {
      "provenance": [],
      "authorship_tag": "ABX9TyNhysCTDje5iSnDMyxbgRLj",
      "include_colab_link": true
    },
    "kernelspec": {
      "name": "python3",
      "display_name": "Python 3"
    },
    "language_info": {
      "name": "python"
    }
  },
  "cells": [
    {
      "cell_type": "markdown",
      "metadata": {
        "id": "view-in-github",
        "colab_type": "text"
      },
      "source": [
        "<a href=\"https://colab.research.google.com/github/manumantilla/PROCOM/blob/main/retoManuel.ipynb\" target=\"_parent\"><img src=\"https://colab.research.google.com/assets/colab-badge.svg\" alt=\"Open In Colab\"/></a>"
      ]
    },
    {
      "cell_type": "code",
      "execution_count": 47,
      "metadata": {
        "colab": {
          "base_uri": "https://localhost:8080/",
          "height": 131
        },
        "id": "xfqo9Ia_wiXY",
        "outputId": "1c1ed6fd-8156-409e-a2bd-001d078f2e98"
      },
      "outputs": [
        {
          "output_type": "error",
          "ename": "SyntaxError",
          "evalue": "ignored",
          "traceback": [
            "\u001b[0;36m  File \u001b[0;32m\"<ipython-input-47-9cd9bdec1dd7>\"\u001b[0;36m, line \u001b[0;32m3\u001b[0m\n\u001b[0;31m    for i in (\"manuel\":[],\"paula\":[],\"prro\"_[]):\u001b[0m\n\u001b[0m                      ^\u001b[0m\n\u001b[0;31mSyntaxError\u001b[0m\u001b[0;31m:\u001b[0m invalid syntax\n"
          ]
        }
      ],
      "source": [
        "#Menu para escoger la cantidad de estudiantes\n",
        "dic1={}#0,1,2,3,4,5,6,7,8,9,10\n",
        "for i in (\"manuel\",\"paula\":[],\"prro\"_[]):\n",
        "  option = int(input(\"cuantas notas debe tener:?\"))\n",
        "  j=-1\n",
        "  while j <= option:\n",
        "    j=int(input(\"ingresa las notas de cada uno comienzadno con el primer estudiante:\"))\n",
        "    dic1[i]=j\n",
        "    j=j+1 \n",
        "print(dic1)\n",
        "#promedio de cada estudiante\n",
        "\n",
        "\n",
        "print(\"las notas de cada estudante son\",dic1)\n",
        "#promedio\n",
        "suma = (dic1.get(\"manuel\")+dic1.get(\"paula\")+dic1.get(\"prro\"))/3\n",
        "print(suma)\n",
        "if dic1.get(\"manuel\")<dic1.get(\"paula\") and dic1.get(\"manuel\")<dic1.get(\"prro\") and dic1.get(\"paula\")>dic1.get(\"prro\"):\n",
        "  print(\"Manuel tiene la peor notay la mejor nota es la de paula\")"
      ]
    }
  ]
}