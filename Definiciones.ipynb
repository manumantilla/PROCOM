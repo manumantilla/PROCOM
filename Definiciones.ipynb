{
  "nbformat": 4,
  "nbformat_minor": 0,
  "metadata": {
    "colab": {
      "provenance": [],
      "authorship_tag": "ABX9TyNcQj/XJ+UOnq0qU/oq45B5",
      "include_colab_link": true
    },
    "kernelspec": {
      "name": "python3",
      "display_name": "Python 3"
    },
    "language_info": {
      "name": "python"
    }
  },
  "cells": [
    {
      "cell_type": "markdown",
      "metadata": {
        "id": "view-in-github",
        "colab_type": "text"
      },
      "source": [
        "<a href=\"https://colab.research.google.com/github/manumantilla/PROCOM/blob/main/Definiciones.ipynb\" target=\"_parent\"><img src=\"https://colab.research.google.com/assets/colab-badge.svg\" alt=\"Open In Colab\"/></a>"
      ]
    },
    {
      "cell_type": "markdown",
      "source": [
        "FALSE"
      ],
      "metadata": {
        "id": "vByJQzAKFzGy"
      }
    },
    {
      "cell_type": "code",
      "source": [
        "#Es una componente de la variable booleana que son dos: true y false, cualquier vairbale vacia se toma como false y numericamente es 0\n"
      ],
      "metadata": {
        "id": "NA5QRoHeF6qH"
      },
      "execution_count": null,
      "outputs": []
    },
    {
      "cell_type": "markdown",
      "source": [
        "None\n"
      ],
      "metadata": {
        "id": "3UeTkCq0Gy31"
      }
    },
    {
      "cell_type": "code",
      "source": [
        "#Denota un valor vacio, es decir es un tipo de dato\n",
        "a = None\n",
        "if a == None:\n",
        "    print(\"a es None.\")\n",
        "else:\n",
        "    print(\"a no es None.\")"
      ],
      "metadata": {
        "colab": {
          "base_uri": "https://localhost:8080/"
        },
        "id": "hvooIBZ5G2TH",
        "outputId": "549a5694-0f87-40a0-895f-3de1f10dd821"
      },
      "execution_count": null,
      "outputs": [
        {
          "output_type": "stream",
          "name": "stdout",
          "text": [
            "a es None.\n"
          ]
        }
      ]
    },
    {
      "cell_type": "markdown",
      "source": [
        "True"
      ],
      "metadata": {
        "id": "Td2ipE-BH15N"
      }
    },
    {
      "cell_type": "code",
      "execution_count": null,
      "metadata": {
        "id": "SH3dGx63FwF9"
      },
      "outputs": [],
      "source": [
        "#Es lo opuesto al False, y numericamente es 1"
      ]
    },
    {
      "cell_type": "markdown",
      "source": [
        "And"
      ],
      "metadata": {
        "id": "kymFRrkpIBXO"
      }
    },
    {
      "cell_type": "code",
      "source": [
        "#Retorna True si los dos statements son True\n",
        "manuel = 3 \n",
        "pedro = 3\n",
        "sofia = 4\n",
        "if manuel == pedro and manuel<sofia:\n",
        "  print(\"Manuel y pedro iguales y manuel menor que sofia\")"
      ],
      "metadata": {
        "colab": {
          "base_uri": "https://localhost:8080/"
        },
        "id": "5gGtLes8IFv9",
        "outputId": "4dc4a976-2ec1-4969-c428-744a291f067a"
      },
      "execution_count": null,
      "outputs": [
        {
          "output_type": "stream",
          "name": "stdout",
          "text": [
            "Manuel y pedro iguales y manuel menor que sofia\n"
          ]
        }
      ]
    },
    {
      "cell_type": "markdown",
      "source": [
        "Assert\n",
        "\n"
      ],
      "metadata": {
        "id": "THikafj0Jd-K"
      }
    },
    {
      "cell_type": "code",
      "source": [
        "x = \"hello\"\n",
        "assert x == \"hello\"\n",
        "assert x == \"goodbye\""
      ],
      "metadata": {
        "colab": {
          "base_uri": "https://localhost:8080/",
          "height": 201
        },
        "id": "XI8hconOJlVa",
        "outputId": "b33a5b10-0ba8-40f5-8717-dc23ac2ee74a"
      },
      "execution_count": null,
      "outputs": [
        {
          "output_type": "error",
          "ename": "AssertionError",
          "evalue": "ignored",
          "traceback": [
            "\u001b[0;31m---------------------------------------------------------------------------\u001b[0m",
            "\u001b[0;31mAssertionError\u001b[0m                            Traceback (most recent call last)",
            "\u001b[0;32m<ipython-input-4-621da46a5e22>\u001b[0m in \u001b[0;36m<module>\u001b[0;34m\u001b[0m\n\u001b[1;32m      1\u001b[0m \u001b[0mx\u001b[0m \u001b[0;34m=\u001b[0m \u001b[0;34m\"hello\"\u001b[0m\u001b[0;34m\u001b[0m\u001b[0;34m\u001b[0m\u001b[0m\n\u001b[1;32m      2\u001b[0m \u001b[0;32massert\u001b[0m \u001b[0mx\u001b[0m \u001b[0;34m==\u001b[0m \u001b[0;34m\"hello\"\u001b[0m\u001b[0;34m\u001b[0m\u001b[0;34m\u001b[0m\u001b[0m\n\u001b[0;32m----> 3\u001b[0;31m \u001b[0;32massert\u001b[0m \u001b[0mx\u001b[0m \u001b[0;34m==\u001b[0m \u001b[0;34m\"goodbye\"\u001b[0m\u001b[0;34m\u001b[0m\u001b[0;34m\u001b[0m\u001b[0m\n\u001b[0m",
            "\u001b[0;31mAssertionError\u001b[0m: "
          ]
        }
      ]
    },
    {
      "cell_type": "markdown",
      "source": [
        "Class"
      ],
      "metadata": {
        "id": "K0MRBFuVLjR3"
      }
    },
    {
      "cell_type": "markdown",
      "source": [
        "Continue"
      ],
      "metadata": {
        "id": "gQzW-w_2LlKg"
      }
    },
    {
      "cell_type": "markdown",
      "source": [
        "Def"
      ],
      "metadata": {
        "id": "Nxf7KPjHLn1H"
      }
    },
    {
      "cell_type": "markdown",
      "source": [
        "Del"
      ],
      "metadata": {
        "id": "RPywB-G_Lo__"
      }
    },
    {
      "cell_type": "markdown",
      "source": [
        "Break[texto del enlace](`https://`)"
      ],
      "metadata": {
        "id": "jPPhWYKHLbPf"
      }
    },
    {
      "cell_type": "markdown",
      "source": [
        "Elif"
      ],
      "metadata": {
        "id": "UL24GJsdLqSY"
      }
    },
    {
      "cell_type": "code",
      "source": [
        "#Se pueden verificar varias condiciones al incluir una o más verificaciones elif después de su declaración if inicial. Ten en cuenta que solo se ejecutará una condición:\n",
        "v = 9\n",
        "if v==7:\n",
        "  print(\"Hola tienes 7\")\n",
        "elif v == 9:\n",
        "    print(\"Hola tienes 9\")\n",
        "else:\n",
        "  print(\"NO puedes\")"
      ],
      "metadata": {
        "id": "bJdfuvwYMknv"
      },
      "execution_count": null,
      "outputs": []
    },
    {
      "cell_type": "markdown",
      "source": [
        "Else"
      ],
      "metadata": {
        "id": "20tSQGZ2LrcA"
      }
    },
    {
      "cell_type": "code",
      "source": [
        "#Es un condicional que es el que se ejecuta por defautl cuando ninguna de las condiciones anteriores se cumplen:\n",
        "manuel = 9\n",
        "if manuel >100:\n",
        "  print(\"Hola\")\n",
        "else:\n",
        "  print(\"Eres muy pequeño\")\n"
      ],
      "metadata": {
        "id": "9mI5ZjAIMJJM"
      },
      "execution_count": null,
      "outputs": []
    }
  ]
}